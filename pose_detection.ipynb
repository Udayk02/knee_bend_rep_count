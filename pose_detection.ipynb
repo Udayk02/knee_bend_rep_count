{
 "cells": [
  {
   "cell_type": "code",
   "execution_count": 1,
   "id": "a5a0a6ff",
   "metadata": {},
   "outputs": [],
   "source": [
    "import cv2\n",
    "import mediapipe as mp\n",
    "import numpy as np\n",
    "import time\n",
    "\n",
    "mp_drawing = mp.solutions.drawing_utils\n",
    "mp_pose = mp.solutions.pose"
   ]
  },
  {
   "cell_type": "code",
   "execution_count": 2,
   "id": "16140e28",
   "metadata": {},
   "outputs": [],
   "source": [
    "cap = cv2.VideoCapture(0)\n",
    "\n",
    "while cap.isOpened():\n",
    "    ret, frame = cap.read()\n",
    "    cv2.imshow('Mediapipe Feed', frame)\n",
    "    \n",
    "    if cv2.waitKey(10) & 0xff == ord('q'):\n",
    "        break\n",
    "        \n",
    "cap.release()\n",
    "cv2.destroyAllWindows()"
   ]
  },
  {
   "cell_type": "code",
   "execution_count": 6,
   "id": "d536c682",
   "metadata": {},
   "outputs": [],
   "source": [
    "cap = cv2.VideoCapture(0)\n",
    "\n",
    "with mp_pose.Pose(min_detection_confidence = 0.5, min_tracking_confidence = 0.5) as pose:\n",
    "    while cap.isOpened():\n",
    "        ret, frame = cap.read()\n",
    "\n",
    "        # recolor\n",
    "        image = cv2.cvtColor(frame, cv2.COLOR_BGR2RGB)\n",
    "        image.flags.writeable = False\n",
    "        \n",
    "        # detection\n",
    "        result = pose.process(image)\n",
    "        \n",
    "        # color back\n",
    "        image.flags.writeable = True\n",
    "        image = cv2.cvtColor(image, cv2.COLOR_RGB2BGR)\n",
    "        \n",
    "        \n",
    "        mp_drawing.draw_landmarks(image, result.pose_landmarks, mp_pose.POSE_CONNECTIONS)\n",
    "\n",
    "        cv2.imshow('Mediapipe Feed', image)\n",
    "        \n",
    "        if cv2.waitKey(10) & 0xff == ord('q'):\n",
    "            break\n",
    "\n",
    "    cap.release()\n",
    "    cv2.destroyAllWindows()"
   ]
  },
  {
   "cell_type": "code",
   "execution_count": 10,
   "id": "1015def4",
   "metadata": {},
   "outputs": [],
   "source": [
    "cap = cv2.VideoCapture(0)\n",
    "\n",
    "with mp_pose.Pose(min_detection_confidence = 0.5, min_tracking_confidence = 0.5) as pose:\n",
    "    while cap.isOpened():\n",
    "        ret, frame = cap.read()\n",
    "\n",
    "        # recolor\n",
    "        image = cv2.cvtColor(frame, cv2.COLOR_BGR2RGB)\n",
    "        image.flags.writeable = False\n",
    "        \n",
    "        # detection\n",
    "        result = pose.process(image)\n",
    "        \n",
    "        # color back\n",
    "        image.flags.writeable = True\n",
    "        image = cv2.cvtColor(image, cv2.COLOR_RGB2BGR)\n",
    "        \n",
    "        try: \n",
    "            landmarks = result.pose_landmarks.landmark\n",
    "        except:\n",
    "            pass\n",
    "        \n",
    "        \n",
    "        mp_drawing.draw_landmarks(image, result.pose_landmarks, mp_pose.POSE_CONNECTIONS)\n",
    "\n",
    "        cv2.imshow('Mediapipe Feed', image)\n",
    "        \n",
    "        if cv2.waitKey(10) & 0xff == ord('q'):\n",
    "            break\n",
    "\n",
    "    cap.release()\n",
    "    cv2.destroyAllWindows()"
   ]
  },
  {
   "cell_type": "code",
   "execution_count": 11,
   "id": "98282bdb",
   "metadata": {},
   "outputs": [
    {
     "data": {
      "text/plain": [
       "33"
      ]
     },
     "execution_count": 11,
     "metadata": {},
     "output_type": "execute_result"
    }
   ],
   "source": [
    "len(landmarks)"
   ]
  },
  {
   "cell_type": "code",
   "execution_count": 2,
   "id": "8510d177",
   "metadata": {},
   "outputs": [],
   "source": [
    "def calc_angle(a, b, c):\n",
    "    a = np.array(a)\n",
    "    b = np.array(b)\n",
    "    c = np.array(c)\n",
    "    \n",
    "    radians = np.arctan2(c[1] - b[1], c[0] - b[0]) - np.arctan2(a[1] - b[1], a[0] - b[0])\n",
    "    angle = np.abs(radians * 180.0 / np.pi)\n",
    "    \n",
    "    if angle > 180.0:\n",
    "        angle = 360.0 - angle\n",
    "        \n",
    "    return angle"
   ]
  },
  {
   "cell_type": "code",
   "execution_count": null,
   "id": "8d7fae9f",
   "metadata": {},
   "outputs": [],
   "source": [
    "cap = cv2.VideoCapture(0)\n",
    "\n",
    "with mp_pose.Pose(min_detection_confidence = 0.5, min_tracking_confidence = 0.5) as pose:\n",
    "    while cap.isOpened():\n",
    "        ret, frame = cap.read()\n",
    "\n",
    "        # recolor\n",
    "        image = cv2.cvtColor(frame, cv2.COLOR_BGR2RGB)\n",
    "        image.flags.writeable = False\n",
    "        \n",
    "        # detection\n",
    "        result = pose.process(image)\n",
    "        \n",
    "        # color back\n",
    "        image.flags.writeable = True\n",
    "        image = cv2.cvtColor(image, cv2.COLOR_RGB2BGR)\n",
    "        \n",
    "        try: \n",
    "            landmarks = result.pose_landmarks.landmark\n",
    "\n",
    "            shoulder = [landmarks[mp_pose.PoseLandmark.LEFT_SHOULDER.value].x, landmarks[mp_pose.PoseLandmark.LEFT_SHOULDER.value].y]\n",
    "            elbow = [landmarks[mp_pose.PoseLandmark.LEFT_ELBOW.value].x, landmarks[mp_pose.PoseLandmark.LEFT_ELBOW.value].y]\n",
    "            wrist = [landmarks[mp_pose.PoseLandmark.LEFT_WRIST.value].x, landmarks[mp_pose.PoseLandmark.LEFT_WRIST.value].y]\n",
    "\n",
    "            angle = calc_angle(shoulder, elbow, wrist)\n",
    "\n",
    "            coord = tuple(np.multiply(elbow, [640, 480]))\n",
    "            print(coord)\n",
    "            print(str(int(angle)))            \n",
    "            \n",
    "            cv2.putText(image, str(int(angle)), (10, 10), cv2.FONT_HERSHEY_SIMPLEX, 0.5, (0, 0, 255), 2, cv2.LINE_AA)\n",
    "\n",
    "        except:\n",
    "            pass\n",
    "        \n",
    "        \n",
    "        mp_drawing.draw_landmarks(image, result.pose_landmarks, mp_pose.POSE_CONNECTIONS)\n",
    "\n",
    "        cv2.imshow('Mediapipe Feed', image)\n",
    "        \n",
    "        if cv2.waitKey(10) & 0xff == ord('q'):\n",
    "            break\n",
    "\n",
    "    cap.release()\n",
    "    cv2.destroyAllWindows()"
   ]
  },
  {
   "cell_type": "code",
   "execution_count": 3,
   "id": "14178740",
   "metadata": {},
   "outputs": [
    {
     "name": "stderr",
     "output_type": "stream",
     "text": [
      "INFO: Created TensorFlow Lite XNNPACK delegate for CPU.\n"
     ]
    },
    {
     "name": "stdout",
     "output_type": "stream",
     "text": [
      "Video stop\n"
     ]
    }
   ],
   "source": [
    "vcap = cv2.VideoCapture('KneeBendVideo.mp4')\n",
    "pose = mp_pose.Pose(min_detection_confidence = 0.5, min_tracking_confidence = 0.5)\n",
    "\n",
    "  \n",
    "width  = vcap.get(3)    \n",
    "height = vcap.get(4)\n",
    "\n",
    "start = 0\n",
    "end = 0\n",
    "rep_count = 0\n",
    "\n",
    "while(True):\n",
    "    ret, frame = vcap.read()\n",
    "    cv2.imshow('frame',frame)\n",
    "   \n",
    "    if frame is not None:    \n",
    "        image = cv2.cvtColor(frame, cv2.COLOR_BGR2RGB)\n",
    "        image.flags.writeable = False\n",
    "\n",
    "        result = pose.process(image)\n",
    "\n",
    "        image.flags.writeable = True\n",
    "        image = cv2.cvtColor(image, cv2.COLOR_BGR2RGB)\n",
    "\n",
    "        try:\n",
    "            landmarks = result.pose_landmarks.landmark\n",
    "\n",
    "            ankle = [landmarks[mp_pose.PoseLandmark.LEFT_ANKLE.value].x, landmarks[mp_pose.PoseLandmark.LEFT_ANKLE.value].y]\n",
    "            knee = [landmarks[mp_pose.PoseLandmark.LEFT_KNEE.value].x, landmarks[mp_pose.PoseLandmark.LEFT_KNEE.value].y]\n",
    "            hip = [landmarks[mp_pose.PoseLandmark.LEFT_HIP.value].x, landmarks[mp_pose.PoseLandmark.LEFT_HIP.value].y]\n",
    "\n",
    "            angle = calc_angle(ankle, knee, hip)\n",
    "\n",
    "            coord = tuple(np.multiply(knee, [width, height]).astype(int))\n",
    "\n",
    "            cv2.putText(image, str(int(angle)), coord, cv2.FONT_HERSHEY_SIMPLEX, 0.5, (0, 0, 255), 2, cv2.LINE_AA)\n",
    "\n",
    "            if angle < 140:\n",
    "                if start == 0:\n",
    "                    start = time.time()\n",
    "            if angle >= 140:\n",
    "                end = time.time()\n",
    "                if(start != 0):\n",
    "                    rep_time = end - start\n",
    "                    if rep_time < 8:\n",
    "                        cv2.putText(image, \"Keep your knee bent\", (10, 50), cv2.FONT_HERSHEY_SIMPLEX, 2, (0, 0, 255), 2, cv2.LINE_AA)\n",
    "                    else:\n",
    "                        rep_count += 1\n",
    "                    start = end = 0\n",
    "        except:\n",
    "            start = end = 0\n",
    "            pass\n",
    "        \n",
    "        mp_drawing.draw_landmarks(image, result.pose_landmarks, mp_pose.POSE_CONNECTIONS)\n",
    "\n",
    "        cv2.putText(image, \"Rep Count: \" + str(rep_count), (400, 50), cv2.FONT_HERSHEY_SIMPLEX, 2, (255, 0, 0), 2, cv2.LINE_AA)\n",
    "        cv2.imshow('Video', image)\n",
    "    else:\n",
    "        print(\"Frame is none\")\n",
    "        \n",
    "    if cv2.waitKey(22) & 0xFF == ord('q'):\n",
    "        break\n",
    "\n",
    "vcap.release()\n",
    "cv2.destroyAllWindows()\n",
    "print(\"Video stop\")\n"
   ]
  },
  {
   "cell_type": "code",
   "execution_count": 5,
   "id": "4cc43c4e",
   "metadata": {},
   "outputs": [
    {
     "data": {
      "text/plain": [
       "x: 0.4981696307659149\n",
       "y: 0.8737692832946777\n",
       "z: -0.1625491827726364\n",
       "visibility: 0.8063628673553467"
      ]
     },
     "execution_count": 5,
     "metadata": {},
     "output_type": "execute_result"
    }
   ],
   "source": [
    "landmarks[25]"
   ]
  },
  {
   "cell_type": "code",
   "execution_count": 6,
   "id": "00fa5209",
   "metadata": {},
   "outputs": [
    {
     "data": {
      "text/plain": [
       "x: 0.48090246319770813\n",
       "y: 0.7841046452522278\n",
       "z: 0.16334481537342072\n",
       "visibility: 0.28044819831848145"
      ]
     },
     "execution_count": 6,
     "metadata": {},
     "output_type": "execute_result"
    }
   ],
   "source": [
    "landmarks[26]"
   ]
  },
  {
   "cell_type": "code",
   "execution_count": 7,
   "id": "8ba5d49f",
   "metadata": {},
   "outputs": [
    {
     "data": {
      "text/plain": [
       "x: 0.6518848538398743\n",
       "y: 0.8206548690795898\n",
       "z: -0.11039306968450546\n",
       "visibility: 0.9990280866622925"
      ]
     },
     "execution_count": 7,
     "metadata": {},
     "output_type": "execute_result"
    }
   ],
   "source": [
    "landmarks[23]"
   ]
  },
  {
   "cell_type": "code",
   "execution_count": 8,
   "id": "c921862b",
   "metadata": {},
   "outputs": [
    {
     "data": {
      "text/plain": [
       "x: 0.6237873435020447\n",
       "y: 0.8084115982055664\n",
       "z: 0.11068693548440933\n",
       "visibility: 0.998873770236969"
      ]
     },
     "execution_count": 8,
     "metadata": {},
     "output_type": "execute_result"
    }
   ],
   "source": [
    "landmarks[24]"
   ]
  },
  {
   "cell_type": "code",
   "execution_count": 9,
   "id": "b7f177f8",
   "metadata": {},
   "outputs": [
    {
     "data": {
      "text/plain": [
       "x: 0.40726232528686523\n",
       "y: 0.8597673177719116\n",
       "z: 0.04737330973148346\n",
       "visibility: 0.3518066108226776"
      ]
     },
     "execution_count": 9,
     "metadata": {},
     "output_type": "execute_result"
    }
   ],
   "source": [
    "landmarks[27]"
   ]
  },
  {
   "cell_type": "code",
   "execution_count": 10,
   "id": "134ef3f3",
   "metadata": {},
   "outputs": [
    {
     "data": {
      "text/plain": [
       "x: 0.40160632133483887\n",
       "y: 0.8548696637153625\n",
       "z: 0.19516511261463165\n",
       "visibility: 0.19113965332508087"
      ]
     },
     "execution_count": 10,
     "metadata": {},
     "output_type": "execute_result"
    }
   ],
   "source": [
    "landmarks[28]"
   ]
  },
  {
   "cell_type": "code",
   "execution_count": 11,
   "id": "975346cb",
   "metadata": {},
   "outputs": [],
   "source": [
    "left_hip = landmarks[23]"
   ]
  },
  {
   "cell_type": "code",
   "execution_count": 12,
   "id": "83edf3e6",
   "metadata": {},
   "outputs": [
    {
     "data": {
      "text/plain": [
       "0.8206548690795898"
      ]
     },
     "execution_count": 12,
     "metadata": {},
     "output_type": "execute_result"
    }
   ],
   "source": [
    "left_hip.y"
   ]
  }
 ],
 "metadata": {
  "kernelspec": {
   "display_name": "Python 3 (ipykernel)",
   "language": "python",
   "name": "python3"
  },
  "language_info": {
   "codemirror_mode": {
    "name": "ipython",
    "version": 3
   },
   "file_extension": ".py",
   "mimetype": "text/x-python",
   "name": "python",
   "nbconvert_exporter": "python",
   "pygments_lexer": "ipython3",
   "version": "3.8.10"
  }
 },
 "nbformat": 4,
 "nbformat_minor": 5
}
